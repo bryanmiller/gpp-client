{
 "cells": [
  {
   "cell_type": "markdown",
   "metadata": {},
   "source": [
    "# Testing the program note manager"
   ]
  },
  {
   "cell_type": "code",
   "execution_count": 1,
   "metadata": {},
   "outputs": [
    {
     "name": "stdout",
     "output_type": "stream",
     "text": [
      "CALLED\n"
     ]
    }
   ],
   "source": [
    "import nest_asyncio\n",
    "import asyncio\n",
    "from gpp_client import GPPClient\n",
    "nest_asyncio.apply()\n",
    "\n",
    "# API Credentials and Endpoint\n",
    "GPP_ENV_URL = \"\"\n",
    "GPP_API_KEY = \"\"\n",
    "\n",
    "# Create the LucumaClient instance\n",
    "client = GPPClient()\n",
    "# Ensure an event loop exists\n",
    "loop = asyncio.get_event_loop()"
   ]
  },
  {
   "cell_type": "code",
   "execution_count": 3,
   "metadata": {},
   "outputs": [
    {
     "data": {
      "text/plain": [
       "{'create',\n",
       " 'delete_batch',\n",
       " 'delete_batch_by_program_id',\n",
       " 'delete_by_id',\n",
       " 'get_batch',\n",
       " 'get_batch_by_program_id',\n",
       " 'get_by_id',\n",
       " 'restore_by_id',\n",
       " 'restore_by_program_id',\n",
       " 'update_batch',\n",
       " 'update_batch_by_program_id',\n",
       " 'update_by_id_via_batch'}"
      ]
     },
     "execution_count": 3,
     "metadata": {},
     "output_type": "execute_result"
    }
   ],
   "source": [
    "# View the available api queries for `program_note`.\n",
    "client.program_note.registered_queries"
   ]
  },
  {
   "cell_type": "code",
   "execution_count": null,
   "metadata": {},
   "outputs": [
    {
     "data": {
      "text/plain": [
       "{'createProgramNote': {'programNote': {'id': 'n-1e7',\n",
       "   'program': {'id': 'p-23e', 'name': 'Testing GPP client'},\n",
       "   'title': 'test3',\n",
       "   'text': 'testing the client',\n",
       "   'isPrivate': False,\n",
       "   'existence': 'PRESENT'}}}"
      ]
     },
     "execution_count": 9,
     "metadata": {},
     "output_type": "execute_result"
    }
   ],
   "source": [
    "# loop.run_until_complete(client.program_note.create(title=\"test3\", text=\"testing the client\", program_id=\"p-23e\"))\n",
    "loop.run_until_complete(client.program_note.get_batch())"
   ]
  },
  {
   "cell_type": "code",
   "execution_count": 4,
   "metadata": {},
   "outputs": [
    {
     "data": {
      "text/plain": [
       "{'programNote': {'id': 'n-1c6',\n",
       "  'program': {'id': 'p-23e', 'name': 'Testing GPP client'},\n",
       "  'title': 'test2',\n",
       "  'text': 'wow change again3333',\n",
       "  'isPrivate': False,\n",
       "  'existence': 'PRESENT'}}"
      ]
     },
     "execution_count": 4,
     "metadata": {},
     "output_type": "execute_result"
    }
   ],
   "source": [
    "\n",
    "loop.run_until_complete(client.program_note.get_by_id(resource_id=\"n-1c6\"))"
   ]
  },
  {
   "cell_type": "code",
   "execution_count": 4,
   "metadata": {},
   "outputs": [
    {
     "data": {
      "text/plain": [
       "{'programNote': {'id': 'n-1c6',\n",
       "  'program': {'id': 'p-23e', 'name': 'Testing GPP client'},\n",
       "  'title': 'test2',\n",
       "  'text': 'wow change again',\n",
       "  'isPrivate': False,\n",
       "  'existence': 'PRESENT'}}"
      ]
     },
     "execution_count": 4,
     "metadata": {},
     "output_type": "execute_result"
    }
   ],
   "source": [
    "# Now with default fields\n",
    "loop.run_until_complete(client.program_note.get_by_id(resource_id=\"n-1c6\"))"
   ]
  },
  {
   "cell_type": "code",
   "execution_count": 6,
   "metadata": {},
   "outputs": [
    {
     "data": {
      "text/plain": [
       "{'updateProgramNotes': {'programNotes': [{'id': 'n-1c6',\n",
       "    'program': {'id': 'p-23e', 'name': 'Testing GPP client'},\n",
       "    'title': 'test2',\n",
       "    'text': 'wow change again3333',\n",
       "    'isPrivate': False,\n",
       "    'existence': 'PRESENT'}],\n",
       "  'hasMore': False}}"
      ]
     },
     "execution_count": 6,
     "metadata": {},
     "output_type": "execute_result"
    }
   ],
   "source": [
    "loop.run_until_complete(client.program_note.update_by_id(resource_id=\"n-1c6\", text=\"wow change again3333\"))"
   ]
  },
  {
   "cell_type": "code",
   "execution_count": 7,
   "metadata": {},
   "outputs": [
    {
     "data": {
      "text/plain": [
       "{'updateProgramNotes': {'programNotes': [{'id': 'n-1c6',\n",
       "    'program': {'id': 'p-23e', 'name': 'Testing GPP client'},\n",
       "    'title': 'test2',\n",
       "    'text': 'wow change again3333',\n",
       "    'isPrivate': False,\n",
       "    'existence': 'DELETED'}],\n",
       "  'hasMore': False}}"
      ]
     },
     "execution_count": 7,
     "metadata": {},
     "output_type": "execute_result"
    }
   ],
   "source": [
    "loop.run_until_complete(client.program_note.delete_by_id(resource_id=\"n-1c6\"))"
   ]
  },
  {
   "cell_type": "code",
   "execution_count": 8,
   "metadata": {},
   "outputs": [
    {
     "data": {
      "text/plain": [
       "{'updateProgramNotes': {'programNotes': [{'id': 'n-1c6',\n",
       "    'program': {'id': 'p-23e', 'name': 'Testing GPP client'},\n",
       "    'title': 'test2',\n",
       "    'text': 'wow change again3333',\n",
       "    'isPrivate': False,\n",
       "    'existence': 'PRESENT'}],\n",
       "  'hasMore': False}}"
      ]
     },
     "execution_count": 8,
     "metadata": {},
     "output_type": "execute_result"
    }
   ],
   "source": [
    "loop.run_until_complete(client.program_note.restore_by_id(resource_id=\"n-1c6\"))"
   ]
  },
  {
   "cell_type": "code",
   "execution_count": 2,
   "metadata": {},
   "outputs": [
    {
     "data": {
      "text/plain": [
       "{'program': {'id': 'p-23e',\n",
       "  'name': 'Testing GPP client',\n",
       "  'description': None,\n",
       "  'existence': 'PRESENT',\n",
       "  'type': 'SCIENCE',\n",
       "  'reference': None,\n",
       "  'proposal': {'reference': {'label': 'G-2025B-0670',\n",
       "    'semester': '2025B',\n",
       "    'semesterIndex': 670},\n",
       "   'category': 'EXTRAGALACTIC_OTHER',\n",
       "   'type': {'scienceSubtype': 'CLASSICAL'}},\n",
       "  'active': {'start': '2025-08-01', 'end': '2026-01-31'},\n",
       "  'goa': {'proprietaryMonths': 12,\n",
       "   'shouldNotify': True,\n",
       "   'privateHeader': False}}}"
      ]
     },
     "execution_count": 2,
     "metadata": {},
     "output_type": "execute_result"
    }
   ],
   "source": [
    "loop.run_until_complete(client.program.get_by_id(program_id=\"p-23e\"))"
   ]
  },
  {
   "cell_type": "markdown",
   "metadata": {},
   "source": []
  }
 ],
 "metadata": {
  "kernelspec": {
   "display_name": "gpp_client",
   "language": "python",
   "name": "python3"
  },
  "language_info": {
   "codemirror_mode": {
    "name": "ipython",
    "version": 3
   },
   "file_extension": ".py",
   "mimetype": "text/x-python",
   "name": "python",
   "nbconvert_exporter": "python",
   "pygments_lexer": "ipython3",
   "version": "3.10.16"
  }
 },
 "nbformat": 4,
 "nbformat_minor": 2
}
